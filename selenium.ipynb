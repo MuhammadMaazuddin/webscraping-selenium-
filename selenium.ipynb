{
 "cells": [
  {
   "cell_type": "markdown",
   "id": "e3a620c0",
   "metadata": {},
   "source": [
    "## Question 1\n",
    "\n",
    "After successfully completing your degree, hopefully within eight semesters xD, you're embarking on the job search phase. Traditional job hunting can be a bit boring, so why not consider automation as a solution? Luckily, your PAI class introduced you to Selenium, an automation tool.\n",
    "\n",
    "You've thinking of developing a simple script to navigate rozee.pk and indeed websites, searching for AI/ML Engineer positions. This script extracts crucial information from each job listing, such as job titles, company names, job locations, gender preferences, age requirements, minimum education levels, and experience details (if available). All this data should be neatly organized into a Pandas dataframe, including links to the job listings. Perform analysis on dataframe to find a job which best suits you."
   ]
  },
  {
   "cell_type": "code",
   "execution_count": 133,
   "id": "3804361f",
   "metadata": {},
   "outputs": [],
   "source": [
    "from selenium import webdriver\n",
    "from selenium.webdriver.chrome.options import Options\n",
    "from selenium.webdriver.common.keys import Keys\n",
    "from selenium.webdriver.common.by import By\n",
    "from selenium.common.exceptions import NoSuchElementException\n",
    "from selenium.webdriver.chrome.service import Service as ChromeService\n",
    "from selenium.webdriver.firefox.service import Service as FirefoxService\n",
    "from webdriver_manager.chrome import ChromeDriverManager\n",
    "from selenium.webdriver.support.ui import WebDriverWait\n",
    "import time  \n",
    "import pandas as pd"
   ]
  },
  {
   "cell_type": "code",
   "execution_count": 181,
   "id": "8da05713-6392-40e8-8353-beba9c77cd5f",
   "metadata": {},
   "outputs": [],
   "source": [
    "driver = webdriver.Chrome(service=ChromeService(ChromeDriverManager().install()))"
   ]
  },
  {
   "cell_type": "code",
   "execution_count": 3,
   "id": "2aebeefc-4995-4c59-8cb5-c611af0abc2e",
   "metadata": {},
   "outputs": [],
   "source": [
    "url = 'https://www.rozee.pk/jobs-by-industry'\n",
    "driver.get(url)"
   ]
  },
  {
   "cell_type": "code",
   "execution_count": 4,
   "id": "86d3386f-c3d0-427c-9217-e0f26c6feb87",
   "metadata": {},
   "outputs": [],
   "source": [
    "list12 = driver.find_elements(By.CLASS_NAME, \"sect\")"
   ]
  },
  {
   "cell_type": "code",
   "execution_count": 5,
   "id": "18fa8746-bbe5-4cfb-becb-83a7a6389e22",
   "metadata": {},
   "outputs": [],
   "source": [
    "list14 = []\n",
    "for i in range(len(list12)):\n",
    "    list13 = list12[i].find_elements(By.TAG_NAME , \"a\")\n",
    "    for j in range(len(list13)):\n",
    "        list14.append(list13[j].get_attribute(\"href\"))"
   ]
  },
  {
   "cell_type": "code",
   "execution_count": null,
   "id": "03c9b693-6382-4fb6-a327-8b2b7fe98645",
   "metadata": {},
   "outputs": [],
   "source": [
    "JOB = []\n",
    "for i in range(len(list14)):\n",
    "    # driver.get(list14[i])\n",
    "    try:\n",
    "        list81 = driver.find_element(By.ID , \"jobs\")\n",
    "        list87 = list81.find_elements(By.CLASS_NAME , \"job\")\n",
    "        for j in range(len(list87)):\n",
    "            try:\n",
    "                list98 = list87[j].find_element(By.TAG_NAME , \"a\")\n",
    "                JOB.append(list98.get_attribute(\"href\"))\n",
    "            except NoSuchElementException:\n",
    "                print(\"no link found\")\n",
    "                pass\n",
    "                \n",
    "    except NoSuchElementException:\n",
    "        print(\"no element found\")\n",
    "        pass"
   ]
  },
  {
   "cell_type": "code",
   "execution_count": 9,
   "id": "f15fe79c-2ab1-4a12-8771-17d28e5a8d5b",
   "metadata": {},
   "outputs": [],
   "source": [
    "file_path = 'job_by_industry.txt'\n",
    "with open(file_path, 'r') as file:\n",
    "    links = file.read().splitlines()"
   ]
  },
  {
   "cell_type": "code",
   "execution_count": 30,
   "id": "efd772a8-b2d6-47c5-8ab7-263b2c9dff18",
   "metadata": {},
   "outputs": [
    {
     "name": "stdout",
     "output_type": "stream",
     "text": [
      "element not found\n",
      "element not found\n",
      "element not found\n",
      "element not found\n",
      "element not found\n",
      "element not found\n",
      "element not found\n",
      "element not found\n",
      "element not found\n",
      "element not found\n",
      "element not found\n",
      "element not found\n",
      "element not found\n",
      "element not found\n",
      "element not found\n",
      "element not found\n",
      "element not found\n",
      "element not found\n",
      "element not found\n",
      "element not found\n",
      "element not found\n",
      "element not found\n"
     ]
    }
   ],
   "source": [
    "list009 = []\n",
    "for i in range(1501,1990):\n",
    "    driver.get(links[i])\n",
    "    try:\n",
    "        list56 = driver.find_element(By.ID  , \"jbDetail\")\n",
    "        list77 = list56.find_elements(By.CLASS_NAME , \"row\")\n",
    "        list007 = []\n",
    "        for j in list77:\n",
    "            list007.append(j.text.split('\\n'))\n",
    "        list009.append(list007)\n",
    "    except NoSuchElementException:\n",
    "        print(\"element not found\")\n",
    "        pass"
   ]
  },
  {
   "cell_type": "code",
   "execution_count": 31,
   "id": "3e9b2090-1153-47f4-9384-6f50fcbe6556",
   "metadata": {},
   "outputs": [
    {
     "data": {
      "text/plain": [
       "467"
      ]
     },
     "execution_count": 31,
     "metadata": {},
     "output_type": "execute_result"
    }
   ],
   "source": [
    "len(list009)"
   ]
  },
  {
   "cell_type": "code",
   "execution_count": 39,
   "id": "491cdca6-1196-4ca8-9ceb-b0cf69c727f2",
   "metadata": {},
   "outputs": [],
   "source": [
    "l1 = []\n",
    "l2 = []\n",
    "l3 = []\n",
    "l4 = []\n",
    "l5 = []\n",
    "l6 = []\n",
    "l7 = []\n",
    "l8 = []\n",
    "l9 = []\n",
    "l10 = []\n",
    "l11 = []\n",
    "l12 = []\n",
    "l13 = []\n",
    "l14 = []\n",
    "l15 = []\n",
    "l16 = []"
   ]
  },
  {
   "cell_type": "code",
   "execution_count": 40,
   "id": "9058c260-ee0a-45c2-9579-8287babed125",
   "metadata": {},
   "outputs": [],
   "source": [
    "l09 = []\n",
    "for i in range(len(list009)):\n",
    "    for j in range(len(list009[i])):\n",
    "        list09 = list009[i]\n",
    "        key , value = list09[j][0] , list09[j][1]\n",
    "        key = key.replace(':','')\n",
    "        if key == 'Industry':\n",
    "            for k in range(i - len(l1)):\n",
    "                l1.append(0)\n",
    "            l1.append(value)\n",
    "        elif key == 'Functional Area':\n",
    "            for k in range(i - len(l2)):\n",
    "                l2.append(0)\n",
    "            l2.append(value)\n",
    "        elif key == 'Total Positions':\n",
    "            for k in range(i - len(l3)):\n",
    "                l3.append(0)\n",
    "            l3.append(value)\n",
    "        elif key == 'Job Shift':\n",
    "            for k in range(i - len(l4)):\n",
    "                l4.append(0)\n",
    "            l4.append(value)\n",
    "        elif key == 'Job Type':\n",
    "            for k in range(i - len(l5)):\n",
    "                l5.append(0)\n",
    "            l5.append(value)\n",
    "        elif key == 'Job Location':\n",
    "            for k in range(i - len(l6)):\n",
    "                l6.append(0)\n",
    "            l6.append(value)\n",
    "        elif key == 'Gender':\n",
    "            for k in range(i - len(l7)):\n",
    "                l7.append(0)\n",
    "            l7.append(value)\n",
    "        elif key == 'Minimum Education':\n",
    "            for k in range(i - len(l8)):\n",
    "                l8.append(0)\n",
    "            l8.append(value)\n",
    "        elif key == 'Degree Title':\n",
    "            for k in range(i - len(l9)):\n",
    "                l9.append(0)\n",
    "            l9.append(value)\n",
    "        elif key == 'Career Level':\n",
    "            for k in range(i - len(l10)):\n",
    "                l10.append(0)\n",
    "            l10.append(value)\n",
    "        elif key == 'Minimum Experience':\n",
    "            for k in range(i - len(l11)):\n",
    "                l11.append(0)\n",
    "            l11.append(value)\n",
    "        elif key == 'Apply Before':\n",
    "            for k in range(i - len(l12)):\n",
    "                l12.append(0)\n",
    "            l12.append(value)\n",
    "        elif key == 'Posting Date':\n",
    "            for k in range(i - len(l13)):\n",
    "                l13.append(0)\n",
    "            l13.append(value)\n",
    "        elif key == 'Age':\n",
    "            for k in range(i - len(l14)):\n",
    "                l14.append(0)\n",
    "            l14.append(value)\n",
    "        elif key == 'Experience':\n",
    "            for k in range(j - len(l15)):\n",
    "                l15.append(0)\n",
    "            l15.append(value)\n",
    "        elif key == 'Department':\n",
    "            for k in range(j - len(l16)):\n",
    "                l16.append(0)\n",
    "            l16.append(value)\n",
    "        "
   ]
  },
  {
   "cell_type": "code",
   "execution_count": 41,
   "id": "72928f81-198e-44eb-a567-2494768696d3",
   "metadata": {},
   "outputs": [
    {
     "data": {
      "text/plain": [
       "467"
      ]
     },
     "execution_count": 41,
     "metadata": {},
     "output_type": "execute_result"
    }
   ],
   "source": [
    "len(l1)"
   ]
  },
  {
   "cell_type": "code",
   "execution_count": 42,
   "id": "04114282-f1dc-4d0a-bc03-f534ed28309d",
   "metadata": {},
   "outputs": [],
   "source": [
    "dict = {\n",
    "    'Industry' : l1,\n",
    "    'Functional Area' : l2,\n",
    "    'Total Positions' : l3,\n",
    "    'Job Shift' : l4,\n",
    "    'Job Type' : l5,\n",
    "    'Job Location' : l6,\n",
    "    'Gender' : l7,\n",
    "    'Minimum Education' : l8,\n",
    "    'Degree Title' : l9,\n",
    "    'Career Level' : l10,\n",
    "    'Minimum Experience' : l11,\n",
    "    'Apply Before' : l12,\n",
    "    'Posting Date' : l13,\n",
    "    'Age' : l14,\n",
    "    'Experience' : l15,\n",
    "    'Department' : l16,\n",
    "}"
   ]
  },
  {
   "cell_type": "code",
   "execution_count": 43,
   "id": "243cdccf-4d5b-4315-b490-ce821fd37a06",
   "metadata": {},
   "outputs": [],
   "source": [
    "max_length = max(len(lst) for lst in dict.values())\n",
    "for key, value in dict.items():\n",
    "    dict[key] = value + [None] * (max_length - len(value))"
   ]
  },
  {
   "cell_type": "code",
   "execution_count": 44,
   "id": "f8ef5fcb-fb0f-44c7-a9f5-e9c56473cfbd",
   "metadata": {},
   "outputs": [],
   "source": [
    "import pandas as pd\n",
    "df = pd.DataFrame(dict)\n"
   ]
  },
  {
   "cell_type": "code",
   "execution_count": 45,
   "id": "eb56ef59-011b-4e9d-8f71-6ea905aa493f",
   "metadata": {},
   "outputs": [],
   "source": [
    "df.to_csv('out.csv', mode='a', header=False, index=False)\n"
   ]
  },
  {
   "cell_type": "code",
   "execution_count": 29,
   "id": "e153f514-a8e8-4f77-8ac4-e14a20f4f7b5",
   "metadata": {},
   "outputs": [],
   "source": [
    "data = pd.read_csv(\"out.csv\")"
   ]
  },
  {
   "cell_type": "code",
   "execution_count": 30,
   "id": "32fdabf5-163b-46d5-9724-70947f3e9d59",
   "metadata": {},
   "outputs": [
    {
     "name": "stdin",
     "output_type": "stream",
     "text": [
      "enter the type of job you want Accounts\n"
     ]
    },
    {
     "name": "stdout",
     "output_type": "stream",
     "text": [
      "the best job that suits to you is :  Unnamed: 0                                                            1\n",
      "Industry                                              Shipping / Marine\n",
      "Functional Area                  Accounts, Finance & Financial Services\n",
      "Total Positions                                                  1 Post\n",
      "Job Shift                                             First Shift (Day)\n",
      "Job Type                                            Full Time/Permanent\n",
      "Job Location                                          Karachi, Pakistan\n",
      "Gender                                                    No Preference\n",
      "Minimum Education                                             Bachelors\n",
      "Degree Title                              ACA/ACCA or equivalent degree\n",
      "Career Level                                   Experienced Professional\n",
      "Minimum Experience                                              5 Years\n",
      "Apply Before                                               Nov 27, 2023\n",
      "Posting Date                                               Oct 26, 2023\n",
      "Age                                                                   0\n",
      "Experience                                                            0\n",
      "Department                                                            0\n",
      "link_to_job           https://www.rozee.pk/imgs-group-accounting-coo...\n",
      "Name: 1, dtype: object\n"
     ]
    }
   ],
   "source": [
    "df = data['Functional Area']\n",
    "inp = input(\"enter the type of job you want\")\n",
    "num = 0\n",
    "for i in df:\n",
    "    if inp in i:\n",
    "        num+=1\n",
    "        break\n",
    "    num+=1\n",
    "print(\"the best job that suits to you is : \",data.iloc[num])"
   ]
  },
  {
   "cell_type": "code",
   "execution_count": 22,
   "id": "9a720b26-e167-439f-98a0-f2874a21b2f5",
   "metadata": {},
   "outputs": [],
   "source": []
  },
  {
   "cell_type": "markdown",
   "id": "16272d0d",
   "metadata": {},
   "source": [
    "## Question 2\n",
    "\n",
    "Develop a basic movie recommendation system that scrapes data from the IMDb website. The program will retrieve information from the Most Popular Movies page on IMDb. The data to be scraped is\n",
    "\n",
    "1) Movie Titles <br>\n",
    "2) Runtime <br>\n",
    "3) Rating <br>\n",
    "4) Age Restriction <br>\n",
    "5) Genre <br>\n",
    "6) Writer(s) <br>\n",
    "7) Director(s) <br>\n",
    "8) Fun Movie Trivia <br> \n",
    "\n",
    "The data will be stored in a Pandas dataframe.\n",
    "\n",
    "Subsequently, the program will prompt the user to specify their preferences for:\n",
    "\n",
    "1) Genre <br>\n",
    "2) Minimum Rating<br>\n",
    "3) Maximum Runtime<br>\n",
    "4) Age Restriction<br>\n",
    "\n",
    "It will then filter the dataframe accordingly and select a movie for recommendation. The recommendation will display the movie title, writer, director, and trivia. If there are no movies that match the user's preferences, the program will recommend any movie from the original dataframe."
   ]
  },
  {
   "cell_type": "code",
   "execution_count": 39,
   "id": "dc4fef68-475c-41f6-a373-011ce93447e9",
   "metadata": {},
   "outputs": [],
   "source": [
    "url = \"https://www.imdb.com/search/title/?title_type=feature&moviemeter=1,100\"\n",
    "driver.get(url)"
   ]
  },
  {
   "cell_type": "code",
   "execution_count": 6,
   "id": "8efa62e2",
   "metadata": {},
   "outputs": [],
   "source": [
    "list1 = driver.find_element(By.XPATH , \"/html/body/div[2]/main/div[2]/div[3]/section/section/div/section/section/div[2]/div/section/div[2]/div[2]/ul\")"
   ]
  },
  {
   "cell_type": "code",
   "execution_count": 7,
   "id": "250c209d-10dc-465f-9be5-673212f97af4",
   "metadata": {},
   "outputs": [],
   "source": [
    "list2 = list1.find_elements(By.TAG_NAME , \"a\")"
   ]
  },
  {
   "cell_type": "code",
   "execution_count": 9,
   "id": "715508c7-38b3-4175-9db3-6ee4334aabab",
   "metadata": {},
   "outputs": [],
   "source": [
    "link_list = []\n",
    "for i in range(0 , 82 , 2):\n",
    "    link_list.append(list2[i].get_attribute(\"href\"))"
   ]
  },
  {
   "cell_type": "code",
   "execution_count": 10,
   "id": "efd05ddb-1497-496e-a1b6-21915ff9d661",
   "metadata": {},
   "outputs": [],
   "source": [
    "with open('link.txt', 'w') as file:\n",
    "    for item in link_list:\n",
    "        file.write(str(item) + '\\n')"
   ]
  },
  {
   "cell_type": "code",
   "execution_count": 11,
   "id": "eef80e5a-2631-4167-ac96-b7622f58b97d",
   "metadata": {},
   "outputs": [],
   "source": [
    "file_path = 'link.txt'\n",
    "with open(file_path, 'r') as file:\n",
    "    links = file.read().splitlines()"
   ]
  },
  {
   "cell_type": "code",
   "execution_count": 13,
   "id": "3d01cfa7-100e-4888-a3c4-faf46a47e688",
   "metadata": {},
   "outputs": [
    {
     "data": {
      "text/plain": [
       "'https://www.imdb.com/title/tt22041854/?ref_=sr_i_11'"
      ]
     },
     "execution_count": 13,
     "metadata": {},
     "output_type": "execute_result"
    }
   ],
   "source": [
    "links[10]"
   ]
  },
  {
   "cell_type": "code",
   "execution_count": 180,
   "id": "9b6a5a3d-9384-42a1-816f-339ec97c096d",
   "metadata": {},
   "outputs": [],
   "source": [
    "l1 = []\n",
    "l2 = []\n",
    "l3 = []\n",
    "l4 = []\n",
    "l5 = []\n",
    "l6 = []\n",
    "l7 = []\n"
   ]
  },
  {
   "cell_type": "code",
   "execution_count": 182,
   "id": "73f544ca-f2bf-493e-bd70-09148a898ff5",
   "metadata": {},
   "outputs": [
    {
     "name": "stdout",
     "output_type": "stream",
     "text": [
      "inside\n",
      "no element found in D\n",
      "inside\n",
      "inside\n",
      "inside\n",
      "no element found in D\n",
      "inside\n",
      "inside\n",
      "no element found in D\n",
      "inside\n",
      "inside\n",
      "no element found in D\n",
      "no element found in D\n",
      "no element found in D\n",
      "inside\n",
      "no element found in D\n",
      "no element found in D\n",
      "inside\n",
      "no element found in D\n",
      "no element found in D\n",
      "no element found in D\n"
     ]
    }
   ],
   "source": [
    "for i in range(len(links)):\n",
    "    driver.get(links[i])\n",
    "    time.sleep(1)\n",
    "    try:\n",
    "        list1 = driver.find_element(By.XPATH, \"/html/body/div[2]/main/div/section[1]/section/div[3]/section/section/div[2]\").text\n",
    "        str = list1.split('\\n')\n",
    "        for j in range(len(str)):\n",
    "            if j == 0:\n",
    "                l1.append(str[0])\n",
    "            if j == 3:\n",
    "                l2.append(str[3])\n",
    "            if j == 2:\n",
    "                l4.append(str[2])\n",
    "    except NoSuchElementException:\n",
    "        print(\"element not found in A\")\n",
    "        pass\n",
    "    try:\n",
    "        rate = driver.find_element(By.XPATH,\"/html/body/div[2]/main/div/section[1]/section/div[3]/section/section/div[3]/div[2]/div[2]/div[1]/div/div[1]/a/span/div/div[2]/div[1]\").text\n",
    "        l3.append(rate.split('\\n')[0])\n",
    "    except NoSuchElementException:\n",
    "        print(\"no rating\")\n",
    "        pass\n",
    "    try:\n",
    "        list2 = driver.find_element(By.XPATH , \"/html/body/div[2]/main/div/section[1]/section/div[3]/section/section/div[3]/div[2]/div[1]/section/div[1]/div[2]\").text\n",
    "        str2 = list2.split('\\n')\n",
    "        str3 = ' '.join(str2)\n",
    "        l5.append(str3)\n",
    "    except NoSuchElementException:\n",
    "        print(\"element not found in G\")\n",
    "        pass\n",
    "    try:\n",
    "        list88 = driver.find_element(By.XPATH , \"/html/body/div[2]/main/div/section[1]/div/section/div/div[1]/section[4]/ul\")\n",
    "        try:\n",
    "            list90 = list88.find_elements(By.TAG_NAME , \"li\")\n",
    "            l7.append(list90[0].text.split('\\n'))\n",
    "            l6.append(list90[1].text.split('\\n'))\n",
    "            print(\"inside\")\n",
    "        except NoSuchElementException:\n",
    "            print(\"no element found inside\")\n",
    "            pass\n",
    "    except NoSuchElementException:\n",
    "        print(\"no element found in D\")\n",
    "    if (len(l1) == i):\n",
    "        l1.append('-')\n",
    "    if (len(l2) == i):\n",
    "        l2.append('-')\n",
    "    if (len(l3) == i):\n",
    "        l3.append('-')\n",
    "    if (len(l4) == i):\n",
    "        l4.append('-')\n",
    "    if (len(l5) == i):\n",
    "        l5.append('-')\n",
    "    if (len(l6) == i):\n",
    "        l6.append('-')\n",
    "    if (len(l7) == i):\n",
    "        l7.append('-')"
   ]
  },
  {
   "cell_type": "code",
   "execution_count": 190,
   "id": "aa98cea7-9bf0-42a6-8983-84df672613aa",
   "metadata": {},
   "outputs": [],
   "source": [
    "dict = {\n",
    "    'Movie Title' : l1,\n",
    "    'Run Time' : l2,\n",
    "    'Rating' : l3,\n",
    "    'Age restriction' : l4,\n",
    "    'Genre': l5,\n",
    "    'writer':l6,\n",
    "    'Director' : l7\n",
    "}"
   ]
  },
  {
   "cell_type": "code",
   "execution_count": 216,
   "id": "ea25a17d-5321-4e88-b426-54caadb45a5e",
   "metadata": {},
   "outputs": [],
   "source": [
    "import pandas as pd\n",
    "df = pd.DataFrame(dict)\n",
    "df.to_csv(\"movie.csv\")"
   ]
  },
  {
   "cell_type": "code",
   "execution_count": 218,
   "id": "f7e41493-4d1c-4366-b47a-d3b5f15e7f54",
   "metadata": {},
   "outputs": [],
   "source": [
    "import pandas as pd\n",
    "import re\n",
    "df = pd.read_csv(\"movie.csv\")\n",
    "def runtime_to_minutes(runtime_str):\n",
    "    match = re.match(r'(\\d+)h(\\d+)m', runtime_str)\n",
    "    if match:\n",
    "        hours, minutes = map(int, match.groups())\n",
    "        return hours * 60 + minutes\n",
    "    else:\n",
    "        return 0  \n",
    "df['Run Time'] = df['Run Time'].apply(runtime_to_minutes)\n",
    "def age_to_numeric(age_str):\n",
    "    age_mapping = {'Not Rated': 0, 'PG': 1, 'PG13': 13, 'R': 17, 'TV-MA': 17} \n",
    "    return age_mapping.get(age_str.upper(), 0)  \n",
    "\n",
    "df['Age restriction'] = df['Age restriction'].apply(age_to_numeric)\n",
    "df['Rating'] = df['Rating'].astype(float)\n"
   ]
  },
  {
   "cell_type": "code",
   "execution_count": 219,
   "id": "ce2d08dd-dad7-421e-8f4b-475a2a9d7e63",
   "metadata": {},
   "outputs": [
    {
     "name": "stdin",
     "output_type": "stream",
     "text": [
      "Enter preferred Genre:  Action\n",
      "Enter minimum Rating:  6\n",
      "Enter maximum Runtime:  100\n",
      "Enter preferred Age Restriction:  17\n"
     ]
    },
    {
     "name": "stdout",
     "output_type": "stream",
     "text": [
      "No movies matching your preferences. Here's a random recommendation:\n",
      "\n",
      "Movie Recommendation:\n",
      "Title: Old Dads\n",
      "Writer: -\n",
      "Director: -\n"
     ]
    }
   ],
   "source": [
    "# User preferences\n",
    "user_genre = input(\"Enter preferred Genre: \")\n",
    "min_rating = float(input(\"Enter minimum Rating: \"))\n",
    "max_runtime = int(input(\"Enter maximum Runtime: \"))\n",
    "age_restriction = int(input(\"Enter preferred Age Restriction: \"))\n",
    "\n",
    "# Filter the DataFrame based on user preferences\n",
    "filtered_df = df[\n",
    "    (df['Genre'] == user_genre) &\n",
    "    (df['Rating'] >= min_rating) &\n",
    "    (df['Run Time'] <= max_runtime) &\n",
    "    (df['Age restriction'] <= age_restriction)\n",
    "]\n",
    "\n",
    "# If there are no movies matching the preferences, recommend any movie\n",
    "if filtered_df.empty:\n",
    "    print(\"No movies matching your preferences. Here's a random recommendation:\")\n",
    "    recommended_movie = df.sample(n=1)\n",
    "else:\n",
    "    # Select a movie for recommendation\n",
    "    recommended_movie = filtered_df.sample(n=1)\n",
    "\n",
    "# Display the movie recommendation details\n",
    "print(\"\\nMovie Recommendation:\")\n",
    "print(\"Title:\", recommended_movie['Movie Title'].values[0])\n",
    "print(\"Writer:\", recommended_movie['writer'].values[0])\n",
    "print(\"Director:\", recommended_movie['Director'].values[0])"
   ]
  },
  {
   "cell_type": "markdown",
   "id": "5b981671",
   "metadata": {},
   "source": [
    "## Question 3\n",
    "\n",
    "In Question 3, your objective is to find the best available product on Daraz, specifically the Redmi Note 12 smartphone. You will scrape important information from the products listed on the first five pages, which includes the Product Title, Rating, Free Shipping Status, Daraz Mall status, Seller Rating and the Ship on Time score.\n",
    "\n",
    "To find the best available product, apply the following scoring criteria to each product:\n",
    "\n",
    "<b>1) </b> The price will be the base score.<br>\n",
    "<b>2) </b> Award an additional 5,000 points to products with the \"Daraz Mall\" status.<br>\n",
    "<b>3) </b> Grant an extra 1,000 points to products with free shipping.<br>\n",
    "<b>4) </b> Add 10000*((0.4 * (Product Rating / 5)) + (0.4 * (Seller Rating / 100)) + (0.2 * (Shipping Performance / 100)) to the score <br>"
   ]
  },
  {
   "cell_type": "code",
   "execution_count": 3,
   "id": "5bf29482-642e-460b-84a5-2c0981af9fbe",
   "metadata": {},
   "outputs": [],
   "source": [
    "url = \"https://www.daraz.pk/\"\n",
    "driver.get(url)"
   ]
  },
  {
   "cell_type": "code",
   "execution_count": 4,
   "id": "2ce31374-6870-4a8d-b445-b1ab2e85f62d",
   "metadata": {},
   "outputs": [],
   "source": [
    "url_pg = []\n",
    "url_pg.append(\"https://www.daraz.pk/catalog/?q=Redmi+Note+12+smartphone&_keyori=ss&from=input&spm=a2a0e.home.search.go.5bc64076uHG5AI\")\n",
    "url_pg.append(\"https://www.daraz.pk/catalog/?spm=a2a0e.searchlist.pagination.2.1538477c57zGEL&_keyori=ss&from=input&q=Redmi%20Note%2012%20smartphone&page=2\")\n",
    "url_pg.append(\"https://www.daraz.pk/catalog/?_keyori=ss&from=input&page=3&q=Redmi%20Note%2012%20smartphone&spm=a2a0e.searchlist.pagination.2.1538477c57zGEL\")\n",
    "url_pg.append(\"https://www.daraz.pk/catalog/?_keyori=ss&from=input&page=4&q=Redmi%20Note%2012%20smartphone&spm=a2a0e.searchlist.pagination.1.424e477ckXO3FN\")\n",
    "url_pg.append(\"https://www.daraz.pk/catalog/?spm=a2a0e.searchlist.pagination.5.424e477c3KqttE&_keyori=ss&from=input&q=Redmi%20Note%2012%20smartphone&page=5\")\n"
   ]
  },
  {
   "cell_type": "code",
   "execution_count": 6,
   "id": "0da916db-d2ce-48f0-b51c-94b3df7a8672",
   "metadata": {},
   "outputs": [],
   "source": [
    "driver.get(url_pg[0])"
   ]
  },
  {
   "cell_type": "code",
   "execution_count": 14,
   "id": "8cf92b9b-23f2-424b-98ae-46c8da21b6ae",
   "metadata": {},
   "outputs": [],
   "source": [
    "link = []\n",
    "for i in range(len(url_pg)):\n",
    "    driver.get(url_pg[i])\n",
    "    link_list = driver.find_elements(By.CLASS_NAME , \"gridItem--Yd0sa\")\n",
    "    for j in range(len(link_list)):\n",
    "        tag = link_list[j].find_element(By.TAG_NAME , \"a\")\n",
    "        link.append(tag.get_attribute(\"href\"))\n",
    "    "
   ]
  },
  {
   "cell_type": "code",
   "execution_count": 16,
   "id": "441904f6-d375-421d-8e1e-6c191891acae",
   "metadata": {},
   "outputs": [],
   "source": [
    "with open('draz.txt', 'w') as file:\n",
    "    for item in link:\n",
    "        file.write(str(item) + '\\n')"
   ]
  },
  {
   "cell_type": "code",
   "execution_count": 226,
   "id": "949dc5f4-19e6-4edb-8d43-1a4784564450",
   "metadata": {},
   "outputs": [],
   "source": [
    "file_path = 'draz.txt'\n",
    "with open(file_path, 'r') as file:\n",
    "    links = file.read().splitlines()"
   ]
  },
  {
   "cell_type": "code",
   "execution_count": 23,
   "id": "ec3b020a-af03-4297-b963-eeac3b128d27",
   "metadata": {},
   "outputs": [],
   "source": [
    "driver.get(links[0])"
   ]
  },
  {
   "cell_type": "code",
   "execution_count": 347,
   "id": "a750639c-74f7-4739-9393-9b222a9a8db7",
   "metadata": {},
   "outputs": [],
   "source": [
    "l1 = []\n",
    "l2 = []\n",
    "l3 = []\n",
    "l4 = []\n",
    "l5 = []\n",
    "l6 = []\n",
    "l7 = []\n",
    "l8 = []"
   ]
  },
  {
   "cell_type": "code",
   "execution_count": 348,
   "id": "79cbaaf2-727c-4f4e-8b05-1a4177210e1c",
   "metadata": {},
   "outputs": [],
   "source": [
    "for i in range(150 , 200):\n",
    "    driver.get(links[i])\n",
    "    time.sleep(1)\n",
    "    try:\n",
    "        list001 = driver.find_element(By.CLASS_NAME , \"pdp-mod-product-badge-wrapper\")\n",
    "        str1 = list001.text\n",
    "        l1.append(str1)\n",
    "        try:\n",
    "            alt = list001.find_element(By.TAG_NAME , \"img\")\n",
    "            l5.append(\"status avail\")\n",
    "        except NoSuchElementException:\n",
    "            l5.append(\"status not avail\")\n",
    "            pass\n",
    "    except NoSuchElementException:\n",
    "        l1.append('-')\n",
    "        pass\n",
    "    try:\n",
    "        list002 = driver.find_element(By.CLASS_NAME , \"pdp-product-price\").text\n",
    "        l2.append(list002.split('\\n')[0])\n",
    "        l8.append(list002.split('\\n')[0])\n",
    "       \n",
    "            \n",
    "    except NoSuchElementException:\n",
    "        l2.append('-')\n",
    "        l8.append('-')\n",
    "        pass\n",
    "    try:\n",
    "        list003 = driver.find_element(By.CLASS_NAME , \"delivery\").text\n",
    "        if \"Free\" or \"free\" in list003:\n",
    "            l4.append(\"free shiping\")\n",
    "        else:\n",
    "            l4.append(\"not free shipping\")\n",
    "    except NoSuchElementException:\n",
    "        l4.append('-')\n",
    "        pass\n",
    "    try:\n",
    "        list008 = driver.find_element(By.CLASS_NAME , \"info-content\").text\n",
    "        list67 = list008.split('\\n')\n",
    "        l6.append(list67[1])\n",
    "    except NoSuchElementException:\n",
    "        l6.append('-')\n",
    "        pass\n",
    "    try:\n",
    "        list89 = driver.find_elements(By.CLASS_NAME , \"info-content\")\n",
    "        num = 0\n",
    "        for item in list89:\n",
    "            if num == 1:\n",
    "                str = item.text.split('\\n')\n",
    "            num+=1\n",
    "        l7.append(str[1])\n",
    "    except NoSuchElementException:\n",
    "        l7.append('-')\n",
    "    try:\n",
    "        list57 = driver.find_element(By.ID , \"module_product_review\")\n",
    "        driver.execute_script(\"window.scrollTo(1200, 1500);\")\n",
    "        time.sleep(1)\n",
    "        list58 = list57.find_element(By.CLASS_NAME , \"score-average\").text\n",
    "        l3.append(list58)\n",
    "    except NoSuchElementException:\n",
    "        l3.append('-')\n",
    "        pass"
   ]
  },
  {
   "cell_type": "code",
   "execution_count": 329,
   "id": "bd867554-b10a-42a9-bb30-f51d4fcca080",
   "metadata": {},
   "outputs": [
    {
     "data": {
      "text/plain": [
       "['Redmi Note 12 4g 3d Camera Tempered Glass Protector premium Quality Glass',\n",
       " 'Pack of 02 - Redmi Note 8 Pro - 100% Original Full coverage Tempered Glass screen Protector- Full Glue- with Cleaning Wipes',\n",
       " 'BLKNAIM 4in1 For Xiaomi Redmi Note 12 4G Phone Case Soft Silicone Phone Case+Ceramic Membrane tempered glass+Lens Film+Back Cover',\n",
       " 'Xiaomi Redmi Note 10 Pro / Xiaomi Redmi Note 10 Pro Max Soft Silicone TPU Transparent Back Cover With Camera Protection',\n",
       " 'Xiaomi Redmi Note 9 Back Cover MATTE BLACK FLEXIBLE TPU CASE With Camera Protection',\n",
       " 'Redmi Note 9s / Note 9 Pro Back Camera Lens Glass Replacement for Redmi Note 9s / Note 9 Pro',\n",
       " 'Xiaomi Redmi Note 9S Anti shock Case Cover Antishock Case Shockproof.',\n",
       " 'Quiberk for Xiaomi Redmi Note 12 4G Case Macaron Color Liquid Silicone Shockproof Soft Back Phone Cover',\n",
       " 'Back Camera Glass Protector for Redmi Note 12 (4G) Camera Lens Protector Guard True 3D Premium Ultra Thin High Definition Camera Tempered Glass',\n",
       " 'QAGS Cover for Xiaomi Redmi Note 11 4G Mobile Phone Case Multi Color Camera protection Soft MAtte Tpu Case Silicone Ultra Thin Back Cover',\n",
       " 'Xiaomi Redmi Note 11 ShockProof Airbag Anti-Burst Scratch Proof Transparent TPU Mobile Back Case',\n",
       " 'Xiaomi Redmi Note 8 Matte Soft Silicon Shockproof Back Cover with Camera Protection',\n",
       " 'Xiaomi Redmi Note 11 Antishock & Drop Resistance Armor Cover',\n",
       " 'Xiaomi Redmi Note 8 Soft Silicone Back Cover TPU Transparent Case With Camera Protection',\n",
       " 'XIAOMI REDMI NOTE 11 4G CAMERA GLASS PROTECTOR / 9D CAMERA GLASS PROTECTOR FOR REDMI NOTE 11 / TEMPERED CAMERA GLASS PROTECTOR FOR XIAOMI REDMI NOTE 11 / REDMI NOTE 11 3D CAMERA GLASS PROTECTOR / TOP QUALITY 9D CAMERA GLASS PROTECTOR XIAOMI REDMI NOTE 11',\n",
       " 'Protector of Phone For Redmi Note 11 4G Silicone Case With Camera Protection',\n",
       " 'Redmi Note 9 Ceramic Matte Protector for PUBG Gaming Unbreakable Antishock Hybrid film 9D/11D/21D Fiber Nano Sheet',\n",
       " 'Xiaomi Redmi Note 9S ShockProof Anti-Burst Scratch Proof Transparent TPU Mobile Back Case']"
      ]
     },
     "execution_count": 329,
     "metadata": {},
     "output_type": "execute_result"
    }
   ],
   "source": [
    "l1"
   ]
  },
  {
   "cell_type": "code",
   "execution_count": 339,
   "id": "fe096fba-bc16-4a07-bb5f-b526cc8a25e3",
   "metadata": {},
   "outputs": [],
   "source": [
    "dict = {\n",
    "    'title' : l1,\n",
    "    'price' : l2,\n",
    "    'Rating' : l3,\n",
    "    'free_shipping_status' : l4,\n",
    "    'draz_mall_status': l5,\n",
    "    'seller_rating':l6,\n",
    "    'ship_on_time_score' : l7,\n",
    "    'score' : l8\n",
    "}"
   ]
  },
  {
   "cell_type": "code",
   "execution_count": null,
   "id": "0d949730-5022-48ff-98e8-e9216fcf89bf",
   "metadata": {},
   "outputs": [],
   "source": [
    "import pandas as pd\n",
    "df = pd.DataFrame(dict)\n",
    "df.to_csv('drazpk.csv', mode='a', header=False, index=False)\n"
   ]
  },
  {
   "cell_type": "code",
   "execution_count": null,
   "id": "d3cecc82-fae0-47f5-a5e2-77104d38d8b3",
   "metadata": {},
   "outputs": [],
   "source": [
    "# Question 3\n",
    "# In Question 3, your objective is to find the best available product on Daraz, specifically the Redmi Note 12 smartphone. You will scrape important information from the products listed on the first five pages, which includes the Product Title, Rating, Free Shipping Status, Daraz Mall status, Seller Rating and the Ship on Time score.\n",
    "\n",
    "# To find the best available product, apply the following scoring criteria to each product:\n",
    "\n",
    "# 1) The price will be the base score.\n",
    "# 2) Award an additional 5,000 points to products with the \"Daraz Mall\" status.\n",
    "# 3) Grant an extra 1,000 points to products with free shipping.\n",
    "# 4) Add 10000*((0.4 * (Product Rating / 5)) + (0.4 * (Seller Rating / 100)) + (0.2 * (Shipping Performance / 100)) to the score"
   ]
  },
  {
   "cell_type": "code",
   "execution_count": 63,
   "id": "c9cc7ca6-4078-4c01-ab0f-0fc673ef31d5",
   "metadata": {},
   "outputs": [],
   "source": [
    "data = pd.read_csv(\"drazpk.csv\")\n",
    "df = pd.DataFrame(data)\n",
    "df['score'] = pd.to_numeric(df['score'].str.replace('Rs', '').str.replace(',', '').str.replace('. ',''))\n",
    "for i in range(199):\n",
    "    if df.iloc[i,4] == 'status avail':\n",
    "        df.loc[i, 'score'] = df.loc[i,'score'] * 5000\n",
    "for i in range(199):\n",
    "    if df.iloc[i,3] == 'free shiping':\n",
    "        df.loc[i, 'score'] = df.loc[i,'score'] * 1000\n",
    "df['Rating'] = pd.to_numeric(df['Rating'].str.replace('-', ''))\n",
    "df['seller_rating'] = pd.to_numeric(df['seller_rating'].str.replace('%', '').str.replace('New Seller',''))/100\n",
    "df['ship_on_time_score'] = pd.to_numeric(df['ship_on_time_score'].str.replace('%', '').str.replace('Not enough data',''))/100\n",
    "df['score'] = df['score'].astype(float)\n",
    "for i in range(199):\n",
    "    n1 = float(df.loc[i,'Rating'])\n",
    "    s1 = float(df.loc[i,'seller_rating'])\n",
    "    s2 = float(df.loc[i,'ship_on_time_score'])\n",
    "    n2 = 10000*((0.4*(n1/5))) + (0.4*(s1))+(0.2*(s2))\n",
    "    df.loc[i,'score'] = n2"
   ]
  },
  {
   "cell_type": "code",
   "execution_count": 65,
   "id": "3ee8a9e6-9f25-4d63-8c34-2c377250ab56",
   "metadata": {},
   "outputs": [
    {
     "name": "stdout",
     "output_type": "stream",
     "text": [
      "best product for redmi present in draz is :  For Xiaomi Redmi Note 12 4G Case,with Bracelet Gradient Color 3D Cartoon Pattern Soft Shockproof Phone Case\n"
     ]
    }
   ],
   "source": [
    "max = 0\n",
    "num = 0\n",
    "for i in range(199):\n",
    "    if df.loc[i,'score'] > max:\n",
    "        max = df.loc[i,'score']\n",
    "        num=i\n",
    "print(\"best product for redmi present in draz is : \",df.loc[num,'title'])"
   ]
  },
  {
   "cell_type": "code",
   "execution_count": 68,
   "id": "f944e3e1-73b4-4e14-b5e5-48b8206c518e",
   "metadata": {},
   "outputs": [
    {
     "name": "stdout",
     "output_type": "stream",
     "text": [
      "104\n"
     ]
    }
   ],
   "source": [
    "print(num)"
   ]
  },
  {
   "cell_type": "code",
   "execution_count": 69,
   "id": "e1db0725-d7b8-4281-afee-67fa35ace274",
   "metadata": {},
   "outputs": [
    {
     "data": {
      "text/html": [
       "<div>\n",
       "<style scoped>\n",
       "    .dataframe tbody tr th:only-of-type {\n",
       "        vertical-align: middle;\n",
       "    }\n",
       "\n",
       "    .dataframe tbody tr th {\n",
       "        vertical-align: top;\n",
       "    }\n",
       "\n",
       "    .dataframe thead th {\n",
       "        text-align: right;\n",
       "    }\n",
       "</style>\n",
       "<table border=\"1\" class=\"dataframe\">\n",
       "  <thead>\n",
       "    <tr style=\"text-align: right;\">\n",
       "      <th></th>\n",
       "      <th>title</th>\n",
       "      <th>price</th>\n",
       "      <th>Rating</th>\n",
       "      <th>free_shipping_status</th>\n",
       "      <th>draz_mall_status</th>\n",
       "      <th>seller_rating</th>\n",
       "      <th>ship_on_time_score</th>\n",
       "      <th>score</th>\n",
       "    </tr>\n",
       "  </thead>\n",
       "  <tbody>\n",
       "    <tr>\n",
       "      <th>0</th>\n",
       "      <td>Redmi Note 12 (8GB-256GB) PTA Approved With Of...</td>\n",
       "      <td>Rs. 61,999</td>\n",
       "      <td>4.6</td>\n",
       "      <td>free shiping</td>\n",
       "      <td>status avail</td>\n",
       "      <td>0.93</td>\n",
       "      <td>1.00</td>\n",
       "      <td>3680.572</td>\n",
       "    </tr>\n",
       "    <tr>\n",
       "      <th>1</th>\n",
       "      <td>Redmi Note 12 Pro , 8GB Ram 256GB Rom , 6.67 I...</td>\n",
       "      <td>Rs. 88,499</td>\n",
       "      <td>5.0</td>\n",
       "      <td>free shiping</td>\n",
       "      <td>status not avail</td>\n",
       "      <td>0.91</td>\n",
       "      <td>0.63</td>\n",
       "      <td>4000.490</td>\n",
       "    </tr>\n",
       "    <tr>\n",
       "      <th>2</th>\n",
       "      <td>Xiaomi Redmi Note 12 || 8GB Ram 128GB Rom || 5...</td>\n",
       "      <td>Rs. 51,499</td>\n",
       "      <td>4.7</td>\n",
       "      <td>free shiping</td>\n",
       "      <td>status not avail</td>\n",
       "      <td>0.91</td>\n",
       "      <td>0.71</td>\n",
       "      <td>3760.506</td>\n",
       "    </tr>\n",
       "    <tr>\n",
       "      <th>3</th>\n",
       "      <td>Redmi Note 12 - 6.67\" Inch Display - 8GB RAM -...</td>\n",
       "      <td>Rs. 53,799</td>\n",
       "      <td>4.1</td>\n",
       "      <td>free shiping</td>\n",
       "      <td>status not avail</td>\n",
       "      <td>0.85</td>\n",
       "      <td>0.62</td>\n",
       "      <td>3280.464</td>\n",
       "    </tr>\n",
       "    <tr>\n",
       "      <th>4</th>\n",
       "      <td>Xiaomi Redmi Note 12 Pro RAM 8 GB ROM 256 GB F...</td>\n",
       "      <td>Rs. 88,840</td>\n",
       "      <td>5.0</td>\n",
       "      <td>free shiping</td>\n",
       "      <td>status not avail</td>\n",
       "      <td>0.93</td>\n",
       "      <td>0.94</td>\n",
       "      <td>4000.560</td>\n",
       "    </tr>\n",
       "    <tr>\n",
       "      <th>...</th>\n",
       "      <td>...</td>\n",
       "      <td>...</td>\n",
       "      <td>...</td>\n",
       "      <td>...</td>\n",
       "      <td>...</td>\n",
       "      <td>...</td>\n",
       "      <td>...</td>\n",
       "      <td>...</td>\n",
       "    </tr>\n",
       "    <tr>\n",
       "      <th>194</th>\n",
       "      <td>Charging Port Board For Xiaomi Redmi Note 11 C...</td>\n",
       "      <td>Rs. 1,225</td>\n",
       "      <td>0.0</td>\n",
       "      <td>free shiping</td>\n",
       "      <td>status not avail</td>\n",
       "      <td>0.74</td>\n",
       "      <td>1.00</td>\n",
       "      <td>0.496</td>\n",
       "    </tr>\n",
       "    <tr>\n",
       "      <th>195</th>\n",
       "      <td>For Xiaomi Redmi Note 11 / Note 11S 4G Sunflow...</td>\n",
       "      <td>Rs. 1,556</td>\n",
       "      <td>0.0</td>\n",
       "      <td>free shiping</td>\n",
       "      <td>status not avail</td>\n",
       "      <td>0.74</td>\n",
       "      <td>1.00</td>\n",
       "      <td>0.496</td>\n",
       "    </tr>\n",
       "    <tr>\n",
       "      <th>196</th>\n",
       "      <td>For Xiaomi Redmi Note 12 Pro+ China XINLI Stra...</td>\n",
       "      <td>Rs. 1,276</td>\n",
       "      <td>0.0</td>\n",
       "      <td>free shiping</td>\n",
       "      <td>status not avail</td>\n",
       "      <td>0.74</td>\n",
       "      <td>1.00</td>\n",
       "      <td>0.496</td>\n",
       "    </tr>\n",
       "    <tr>\n",
       "      <th>197</th>\n",
       "      <td>For Xiaomi Redmi Note 11 Pro China / Note 11 P...</td>\n",
       "      <td>Rs. 1,130</td>\n",
       "      <td>0.0</td>\n",
       "      <td>free shiping</td>\n",
       "      <td>status not avail</td>\n",
       "      <td>0.74</td>\n",
       "      <td>1.00</td>\n",
       "      <td>0.496</td>\n",
       "    </tr>\n",
       "    <tr>\n",
       "      <th>198</th>\n",
       "      <td>For Xiaomi Redmi Note 12 4G Global Punk Armor ...</td>\n",
       "      <td>Rs. 1,562</td>\n",
       "      <td>0.0</td>\n",
       "      <td>free shiping</td>\n",
       "      <td>status not avail</td>\n",
       "      <td>0.74</td>\n",
       "      <td>1.00</td>\n",
       "      <td>0.496</td>\n",
       "    </tr>\n",
       "  </tbody>\n",
       "</table>\n",
       "<p>199 rows × 8 columns</p>\n",
       "</div>"
      ],
      "text/plain": [
       "                                                 title       price  Rating  \\\n",
       "0    Redmi Note 12 (8GB-256GB) PTA Approved With Of...  Rs. 61,999     4.6   \n",
       "1    Redmi Note 12 Pro , 8GB Ram 256GB Rom , 6.67 I...  Rs. 88,499     5.0   \n",
       "2    Xiaomi Redmi Note 12 || 8GB Ram 128GB Rom || 5...  Rs. 51,499     4.7   \n",
       "3    Redmi Note 12 - 6.67\" Inch Display - 8GB RAM -...  Rs. 53,799     4.1   \n",
       "4    Xiaomi Redmi Note 12 Pro RAM 8 GB ROM 256 GB F...  Rs. 88,840     5.0   \n",
       "..                                                 ...         ...     ...   \n",
       "194  Charging Port Board For Xiaomi Redmi Note 11 C...   Rs. 1,225     0.0   \n",
       "195  For Xiaomi Redmi Note 11 / Note 11S 4G Sunflow...   Rs. 1,556     0.0   \n",
       "196  For Xiaomi Redmi Note 12 Pro+ China XINLI Stra...   Rs. 1,276     0.0   \n",
       "197  For Xiaomi Redmi Note 11 Pro China / Note 11 P...   Rs. 1,130     0.0   \n",
       "198  For Xiaomi Redmi Note 12 4G Global Punk Armor ...   Rs. 1,562     0.0   \n",
       "\n",
       "    free_shipping_status  draz_mall_status  seller_rating  ship_on_time_score  \\\n",
       "0           free shiping      status avail           0.93                1.00   \n",
       "1           free shiping  status not avail           0.91                0.63   \n",
       "2           free shiping  status not avail           0.91                0.71   \n",
       "3           free shiping  status not avail           0.85                0.62   \n",
       "4           free shiping  status not avail           0.93                0.94   \n",
       "..                   ...               ...            ...                 ...   \n",
       "194         free shiping  status not avail           0.74                1.00   \n",
       "195         free shiping  status not avail           0.74                1.00   \n",
       "196         free shiping  status not avail           0.74                1.00   \n",
       "197         free shiping  status not avail           0.74                1.00   \n",
       "198         free shiping  status not avail           0.74                1.00   \n",
       "\n",
       "        score  \n",
       "0    3680.572  \n",
       "1    4000.490  \n",
       "2    3760.506  \n",
       "3    3280.464  \n",
       "4    4000.560  \n",
       "..        ...  \n",
       "194     0.496  \n",
       "195     0.496  \n",
       "196     0.496  \n",
       "197     0.496  \n",
       "198     0.496  \n",
       "\n",
       "[199 rows x 8 columns]"
      ]
     },
     "execution_count": 69,
     "metadata": {},
     "output_type": "execute_result"
    }
   ],
   "source": [
    "df"
   ]
  },
  {
   "cell_type": "markdown",
   "id": "51adc467",
   "metadata": {},
   "source": [
    "# Question 4\n",
    "\n",
    "Having successfully identified the best product, proceed to its product page on Daraz. Your task is to scrape the product's reviews and perform sentiment analysis on these reviews. To conduct sentiment analysis, you can utilize the NLTK (Natural Language Toolkit) library, which will help you determine the sentiment expressed in the text of the reviews."
   ]
  },
  {
   "cell_type": "code",
   "execution_count": 207,
   "id": "203b3b3a",
   "metadata": {},
   "outputs": [],
   "source": [
    "url = \"https://www.daraz.pk/products/for-xiaomi-redmi-note-12-4g-casewith-bracelet-gradient-color-3d-cartoon-pattern-soft-shockproof-phone-case-i430535441-s2053199586.html?spm=a2a0e.searchlist.sku.1.17675634aZsci2&search=1\"\n",
    "driver.get(url)"
   ]
  },
  {
   "cell_type": "code",
   "execution_count": 208,
   "id": "b481e7a3-73cc-4670-9d39-47f497c87271",
   "metadata": {},
   "outputs": [],
   "source": [
    "rew = []\n",
    "driver.execute_script(\"window.scrollTo(1500, 1800);\")\n",
    "time.sleep(1)\n",
    "l1 = driver.find_element(By.CLASS_NAME , \"mod-reviews\")\n",
    "l2 = l1.find_elements(By.CLASS_NAME , \"item\")\n",
    "for i in l2:\n",
    "    l3 = i.find_element(By.CLASS_NAME , \"content\").text\n",
    "    rew.append(l3)"
   ]
  },
  {
   "cell_type": "code",
   "execution_count": 209,
   "id": "d993e9e6-560c-433b-9a5e-278cfbb8b9a3",
   "metadata": {},
   "outputs": [],
   "source": [
    "from nltk.tokenize import word_tokenize\n",
    "from nltk.corpus import stopwords\n",
    "from nltk import FreqDist\n",
    "from nltk import ngrams"
   ]
  },
  {
   "cell_type": "code",
   "execution_count": 210,
   "id": "417968f5-ee85-4e94-90ae-133e731d3597",
   "metadata": {},
   "outputs": [
    {
     "data": {
      "text/plain": [
       "[('circle', 'around'),\n",
       " ('product', '....'),\n",
       " ('....', 'otherwise'),\n",
       " ('much', '...'),\n",
       " ('...', 'beautiful'),\n",
       " ('beautiful', '😍❤️'),\n",
       " ('😍❤️', '10/10'),\n",
       " ('nice', '.'),\n",
       " ('.', 'fully'),\n",
       " ('fully', 'satisfied'),\n",
       " ('good', 'product'),\n",
       " ('product', '.'),\n",
       " ('.', 'received')]"
      ]
     },
     "execution_count": 210,
     "metadata": {},
     "output_type": "execute_result"
    }
   ],
   "source": [
    "rew1 = ' '.join(rew)\n",
    "tokens = word_tokenize(rew1)\n",
    "stp_wrd = stopwords.words(\"english\")\n",
    "bgrams = ngrams(tokens,2)\n",
    "words = [w for w in bgrams if w[0].lower() not in stp_wrd and w[1].lower() not in stp_wrd]\n",
    "words"
   ]
  },
  {
   "cell_type": "code",
   "execution_count": 211,
   "id": "68f5bfbc-9389-44c1-a53b-b666da199f50",
   "metadata": {},
   "outputs": [
    {
     "name": "stderr",
     "output_type": "stream",
     "text": [
      "[nltk_data] Downloading package vader_lexicon to\n",
      "[nltk_data]     /home/maaz/nltk_data...\n",
      "[nltk_data]   Package vader_lexicon is already up-to-date!\n"
     ]
    },
    {
     "data": {
      "text/plain": [
       "True"
      ]
     },
     "execution_count": 211,
     "metadata": {},
     "output_type": "execute_result"
    }
   ],
   "source": [
    "import nltk\n",
    "from nltk.sentiment import SentimentIntensityAnalyzer\n",
    "\n",
    "nltk.download('vader_lexicon')\n"
   ]
  },
  {
   "cell_type": "code",
   "execution_count": null,
   "id": "abea08f1-b294-4f44-9202-93bc20e703a6",
   "metadata": {},
   "outputs": [],
   "source": []
  },
  {
   "cell_type": "code",
   "execution_count": null,
   "id": "032e0988-25cb-4c45-a07b-a9e2bbc65fab",
   "metadata": {},
   "outputs": [],
   "source": [
    "\n",
    "def analyze_sentiment(text):\n",
    "    sid = SentimentIntensityAnalyzer()\n",
    "    compound_score = sid.polarity_scores(text)['compound']\n",
    "\n",
    "    if compound_score >= 0:\n",
    "        return 'Positive'\n",
    "    else:\n",
    "        return 'Negative'\n",
    "\n",
    "# Example usage\n",
    "example_text = \"I loved the movie. It was fantastic!\"\n",
    "sentiment = analyze_sentiment(example_text)\n",
    "\n",
    "print(f\"Sentiment: {sentiment}\")\n"
   ]
  }
 ],
 "metadata": {
  "kernelspec": {
   "display_name": "Python 3 (ipykernel)",
   "language": "python",
   "name": "python3"
  },
  "language_info": {
   "codemirror_mode": {
    "name": "ipython",
    "version": 3
   },
   "file_extension": ".py",
   "mimetype": "text/x-python",
   "name": "python",
   "nbconvert_exporter": "python",
   "pygments_lexer": "ipython3",
   "version": "3.11.6"
  }
 },
 "nbformat": 4,
 "nbformat_minor": 5
}
